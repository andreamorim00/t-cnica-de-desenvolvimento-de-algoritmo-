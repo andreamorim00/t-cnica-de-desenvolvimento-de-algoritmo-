{
  "nbformat": 4,
  "nbformat_minor": 0,
  "metadata": {
    "colab": {
      "provenance": [],
      "authorship_tag": "ABX9TyNVuj+DxqjwpHSj07QplKn/",
      "include_colab_link": true
    },
    "kernelspec": {
      "name": "python3",
      "display_name": "Python 3"
    },
    "language_info": {
      "name": "python"
    }
  },
  "cells": [
    {
      "cell_type": "markdown",
      "metadata": {
        "id": "view-in-github",
        "colab_type": "text"
      },
      "source": [
        "<a href=\"https://colab.research.google.com/github/andreamorim00/t-cnica-de-desenvolvimento-de-algoritmo-/blob/main/C%C3%B3pia_de_Dicion%C3%A1rio.ipynb\" target=\"_parent\"><img src=\"https://colab.research.google.com/assets/colab-badge.svg\" alt=\"Open In Colab\"/></a>"
      ]
    },
    {
      "cell_type": "code",
      "execution_count": null,
      "metadata": {
        "colab": {
          "base_uri": "https://localhost:8080/"
        },
        "id": "np7uq2L2R3yb",
        "outputId": "919fb129-35bb-481d-bb52-2aa04113ad4b"
      },
      "outputs": [
        {
          "output_type": "stream",
          "name": "stdout",
          "text": [
            "Quantidade de alunos: 10\n",
            "Ninguém tirou nota zero.\n",
            "Menor nota: 6.7\n",
            "Maior nota: 9.2\n"
          ]
        }
      ],
      "source": [
        "# dicionário 01\n",
        "alunos = {\n",
        "    \"Alice\": 8.5,\n",
        "    \"Bruno\": 7.8,\n",
        "    \"Carla\": 9.2,\n",
        "    \"Diego\": 6.9,\n",
        "    \"Eva\": 8.0,\n",
        "    \"Fernando\": 7.5,\n",
        "    \"Gabriela\": 9.0,\n",
        "    \"Henrique\": 6.7,\n",
        "    \"Isabela\": 8.3,\n",
        "    \"João\": 7.2\n",
        "}\n",
        "\n",
        "# Quantos alunos existem\n",
        "print(\"Quantidade de alunos:\", len(alunos))\n",
        "\n",
        "# Alguém tirou nota zero?\n",
        "if 0 in alunos.values():\n",
        "    print(\"Alguém tirou nota zero.\")\n",
        "else:\n",
        "    print(\"Ninguém tirou nota zero.\")\n",
        "\n",
        "# Menor nota\n",
        "print(\"Menor nota:\", min(alunos.values()))\n",
        "\n",
        "# Maior nota\n",
        "print(\"Maior nota:\", max(alunos.values()))"
      ]
    },
    {
      "cell_type": "code",
      "source": [
        "# # Dicionário 02\n",
        "animes = {\n",
        "    \"Naruto\": 220,\n",
        "    \"Jujutsu Kaisen\": 47,\n",
        "    \"Dragon Ball Z\": 291,\n",
        "    \"Death Note\": 37,\n",
        "    \"Fullmetal Alchemist\": 64,\n",
        "    \"Evangelion\": 26,\n",
        "    \"Berserk\": 25,\n",
        "    \"Code Geass\": 50,\n",
        "    \"Akame ga Kill\": 24,\n",
        "    \"Elfen Lied\": 13\n",
        "}\n",
        "\n",
        "# Calcular o total de episódios\n",
        "ep_total = sum(animes.values())\n",
        "print(f\"Total de episódios: {ep_total}\\n\")\n",
        "\n",
        "# Substituir quantidade de episódios pelo percentual\n",
        "for anime in animes:\n",
        "    animes[anime] = (animes[anime] / ep_total) * 100  # percentual\n",
        "\n",
        "# Imprimir nome e percentual em ordem decrescente\n",
        "print(\"Percentual de cada anime (ordem decrescente):\\n\")\n",
        "for anime, perc in sorted(animes.items(), key=lambda x: x[1], reverse=True):\n",
        "    print(f\"{anime}: {perc:.2f}%\")"
      ],
      "metadata": {
        "colab": {
          "base_uri": "https://localhost:8080/"
        },
        "id": "BGetEJ04THf8",
        "outputId": "5758a1a5-7dd0-4654-f53e-a32f356e3ef2"
      },
      "execution_count": null,
      "outputs": [
        {
          "output_type": "stream",
          "name": "stdout",
          "text": [
            "Total de episódios: 797\n",
            "\n",
            "Percentual de cada anime (ordem decrescente):\n",
            "\n",
            "Dragon Ball Z: 36.51%\n",
            "Naruto: 27.60%\n",
            "Fullmetal Alchemist: 8.03%\n",
            "Code Geass: 6.27%\n",
            "Jujutsu Kaisen: 5.90%\n",
            "Death Note: 4.64%\n",
            "Evangelion: 3.26%\n",
            "Berserk: 3.14%\n",
            "Akame ga Kill: 3.01%\n",
            "Elfen Lied: 1.63%\n"
          ]
        }
      ]
    },
    {
      "cell_type": "code",
      "source": [
        "# exercícios 03\n",
        "\n",
        "bandas = {\n",
        "    \"Cangaço Cansado\": [\n",
        "        {\"album\": \"Gente Ruim Só Manda Lembrança Pra Quem Não Presta\", \"ano\": 2019},\n",
        "        {\"album\": \"Se Deus É 6, Satanás É 666\", \"ano\": 1999},\n",
        "        {\"album\": \"Welcome to the Macumba\", \"ano\": 2007}\n",
        "    ],\n",
        "    \"Rogério SkyLab\": [\n",
        "        {\"album\": \"Nas Portas do Cu\", \"ano\": 2003},\n",
        "        {\"album\": \"Crítica da Faculdade do Cu\", \"ano\": 2021},\n",
        "        {\"album\": \"Cosmos\", \"ano\": 2019}\n",
        "    ],\n",
        "    \"Garotos Podres\": [\n",
        "        {\"album\": \"Canções para Ninar\", \"ano\": 2003},\n",
        "        {\"album\": \"Com a Corda Toda\", \"ano\": 1986}\n",
        "    ],\n",
        "    \"Massacration\": [\n",
        "        {\"album\": \"Live Metal Espancation\", \"ano\": 2017},\n",
        "        {\"album\": \"Good Blood Headbangers\", \"ano\": 2009},\n",
        "        {\"album\": \"Gates of Metal Fried Chicken of Death\", \"ano\": 2005}\n",
        "    ],\n",
        "    \"Mamonas Assassinas\": [\n",
        "        {\"album\": \"Cantadas de Amor\", \"ano\": 2014},\n",
        "        {\"album\": \"Boda Vaca\", \"ano\": 2006},\n",
        "        {\"album\": \"Erramos\", \"ano\": 2004}\n",
        "    ]\n",
        "}\n",
        "\n",
        "# --- 1. ÁLBUM MAIS ANTIGO ---\n",
        "mais_antigo = {\"album\": None, \"ano\": 9999, \"banda\": \"\"}\n",
        "for banda, albuns in bandas.items():\n",
        "    for a in albuns:\n",
        "        if a[\"ano\"] < mais_antigo[\"ano\"]:\n",
        "            mais_antigo = {\"album\": a[\"album\"], \"ano\": a[\"ano\"], \"banda\": banda}\n",
        "\n",
        "print(f\"Álbum mais antigo: '{mais_antigo['album']}' ({mais_antigo['ano']}) da banda {mais_antigo['banda']}\")\n",
        "print()\n",
        "\n",
        "# --- 2. BANDA COM MAIOR INTERVALO ENTRE ÁLBUNS ---\n",
        "maior_intervalo = {\"banda\": \"\", \"intervalo\": 0}\n",
        "for banda, albuns in bandas.items():\n",
        "    anos = [a[\"ano\"] for a in albuns]\n",
        "    intervalo = max(anos) - min(anos)\n",
        "    if intervalo > maior_intervalo[\"intervalo\"]:\n",
        "        maior_intervalo = {\"banda\": banda, \"intervalo\": intervalo}\n",
        "\n",
        "print(f\"Banda com maior intervalo entre álbuns: {maior_intervalo['banda']} ({maior_intervalo['intervalo']} anos)\")\n",
        "print()\n",
        "\n",
        "# --- 3. TODOS OS ÁLBUNS DO MAIS NOVO AO MAIS ANTIGO ---\n",
        "todos_albuns = []\n",
        "for banda, albuns in bandas.items():\n",
        "    for a in albuns:\n",
        "        todos_albuns.append((a[\"ano\"], a[\"album\"], banda))\n",
        "\n",
        "# ordena do mais novo para o mais antigo\n",
        "todos_albuns.sort(reverse=True)\n",
        "\n",
        "print(\"Álbuns do mais novo para o mais antigo:\")\n",
        "for ano, album, banda in todos_albuns:\n",
        "    print(f\"{ano} - {album} ({banda})\")"
      ],
      "metadata": {
        "colab": {
          "base_uri": "https://localhost:8080/"
        },
        "id": "e4JUJQMFUBEB",
        "outputId": "a4988b9b-a8a0-4481-d6f8-159d309ec0de"
      },
      "execution_count": null,
      "outputs": [
        {
          "output_type": "stream",
          "name": "stdout",
          "text": [
            "Álbum mais antigo: 'Com a Corda Toda' (1986) da banda Garotos Podres\n",
            "\n",
            "Banda com maior intervalo entre álbuns: Cangaço Cansado (20 anos)\n",
            "\n",
            "Álbuns do mais novo para o mais antigo:\n",
            "2021 - Crítica da Faculdade do Cu (Rogério SkyLab)\n",
            "2019 - Gente Ruim Só Manda Lembrança Pra Quem Não Presta (Cangaço Cansado)\n",
            "2019 - Cosmos (Rogério SkyLab)\n",
            "2017 - Live Metal Espancation (Massacration)\n",
            "2014 - Cantadas de Amor (Mamonas Assassinas)\n",
            "2009 - Good Blood Headbangers (Massacration)\n",
            "2007 - Welcome to the Macumba (Cangaço Cansado)\n",
            "2006 - Boda Vaca (Mamonas Assassinas)\n",
            "2005 - Gates of Metal Fried Chicken of Death (Massacration)\n",
            "2004 - Erramos (Mamonas Assassinas)\n",
            "2003 - Nas Portas do Cu (Rogério SkyLab)\n",
            "2003 - Canções para Ninar (Garotos Podres)\n",
            "1999 - Se Deus É 6, Satanás É 666 (Cangaço Cansado)\n",
            "1986 - Com a Corda Toda (Garotos Podres)\n"
          ]
        }
      ]
    }
  ]
}