{
  "nbformat": 4,
  "nbformat_minor": 0,
  "metadata": {
    "colab": {
      "provenance": [],
      "authorship_tag": "ABX9TyNLd8MJYhxVFRwT7niG2/iW",
      "include_colab_link": true
    },
    "kernelspec": {
      "name": "python3",
      "display_name": "Python 3"
    },
    "language_info": {
      "name": "python"
    }
  },
  "cells": [
    {
      "cell_type": "markdown",
      "metadata": {
        "id": "view-in-github",
        "colab_type": "text"
      },
      "source": [
        "<a href=\"https://colab.research.google.com/github/andreamorim00/t-cnica-de-desenvolvimento-de-algoritmo-/blob/main/C%C3%B3pia_de_Exerc%C3%ADcio_Tuplas01.ipynb\" target=\"_parent\"><img src=\"https://colab.research.google.com/assets/colab-badge.svg\" alt=\"Open In Colab\"/></a>"
      ]
    },
    {
      "cell_type": "code",
      "source": [
        "# Exercício tuplas 01\n",
        "numeros = []\n",
        "for i in range(5):\n",
        "    while True:\n",
        "        try:\n",
        "            n = int(input(f\"Digite o {i+1}º número inteiro: \"))\n",
        "            numeros.append(n)\n",
        "            break\n",
        "        except ValueError:\n",
        "            print(\"Entrada inválida. Digite um número inteiro.\")\n",
        "print(\"Lista final:\", numeros)"
      ],
      "metadata": {
        "colab": {
          "base_uri": "https://localhost:8080/"
        },
        "id": "e04MyCzU3pRC",
        "outputId": "1bb838d2-b055-46a7-d317-d67134d56747"
      },
      "execution_count": null,
      "outputs": [
        {
          "output_type": "stream",
          "name": "stdout",
          "text": [
            "Digite o 1º número inteiro: 5\n",
            "Digite o 2º número inteiro: 8\n",
            "Digite o 3º número inteiro: 9\n",
            "Digite o 4º número inteiro: 4\n",
            "Digite o 5º número inteiro: 2\n",
            "Lista final: [5, 8, 9, 4, 2]\n"
          ]
        }
      ]
    },
    {
      "cell_type": "code",
      "source": [
        "# Tuplas 02\n",
        "# Solicita ao usuário 5 números inteiros\n",
        "numeros = []\n",
        "for i in range(5):\n",
        "    n = int(input(f\"Digite o {i+1}º número inteiro (pode ser negativo): \"))\n",
        "    numeros.append(n)\n",
        "\n",
        "# Aplica a função módulo (valor absoluto)\n",
        "modulos = [abs(num) for num in numeros]\n",
        "\n",
        "# Exibe o resultado\n",
        "print(\"Lista original:\", numeros)\n",
        "print(\"Lista com módulo aplicado:\", modulos)"
      ],
      "metadata": {
        "colab": {
          "base_uri": "https://localhost:8080/"
        },
        "id": "3DnabXNQ3y4O",
        "outputId": "16fe584d-3690-406a-ff31-9a0015550b7e"
      },
      "execution_count": null,
      "outputs": [
        {
          "output_type": "stream",
          "name": "stdout",
          "text": [
            "Digite o 1º número inteiro (pode ser negativo): -8\n",
            "Digite o 2º número inteiro (pode ser negativo): -6\n",
            "Digite o 3º número inteiro (pode ser negativo): -4\n",
            "Digite o 4º número inteiro (pode ser negativo): -1\n",
            "Digite o 5º número inteiro (pode ser negativo): -3\n",
            "Lista original: [-8, -6, -4, -1, -3]\n",
            "Lista com módulo aplicado: [8, 6, 4, 1, 3]\n"
          ]
        }
      ]
    },
    {
      "cell_type": "code",
      "source": [
        "# Tuplas 03\n",
        "# Cria uma lista com números (pode alterar se quiser)\n",
        "numeros = []\n",
        "\n",
        "# Solicita 5 números do usuário\n",
        "for i in range(5):\n",
        "    n = int(input(f\"Digite o {i+1}º número inteiro: \"))\n",
        "    numeros.append(n)\n",
        "\n",
        "print(\"Lista original:\", numeros)\n",
        "\n",
        "# Remove os números negativos\n",
        "positivos = [n for n in numeros if n >= 0]\n",
        "\n",
        "print(\"Lista sem negativos:\", positivos)"
      ],
      "metadata": {
        "colab": {
          "base_uri": "https://localhost:8080/"
        },
        "id": "ICNBLXU83_oa",
        "outputId": "18156c3b-7eec-436f-c569-65e62f6ffc04"
      },
      "execution_count": null,
      "outputs": [
        {
          "output_type": "stream",
          "name": "stdout",
          "text": [
            "Digite o 1º número inteiro: -8\n",
            "Digite o 2º número inteiro: 9\n",
            "Digite o 3º número inteiro: -5\n",
            "Digite o 4º número inteiro: 4\n",
            "Digite o 5º número inteiro: -2\n",
            "Lista original: [-8, 9, -5, 4, -2]\n",
            "Lista sem negativos: [9, 4]\n"
          ]
        }
      ]
    },
    {
      "cell_type": "code",
      "source": [
        "# Tuplas 04\n",
        "notas = []\n",
        "\n",
        "while True:\n",
        "    n = float(input(\"Digite uma nota (ou número negativo para encerrar): \"))\n",
        "    if n < 0:\n",
        "        break\n",
        "    notas.append(n)\n",
        "\n",
        "if len(notas) > 0:\n",
        "    media = sum(notas) / len(notas)\n",
        "    print(f\"Notas digitadas: {notas}\")\n",
        "    print(f\"Média das notas: {media:.2f}\")\n",
        "else:\n",
        "    print(\"Nenhuma nota válida foi digitada.\")"
      ],
      "metadata": {
        "colab": {
          "base_uri": "https://localhost:8080/"
        },
        "id": "_39StQcn4QcT",
        "outputId": "14101751-9b06-4dac-b381-35302e116c3c"
      },
      "execution_count": null,
      "outputs": [
        {
          "output_type": "stream",
          "name": "stdout",
          "text": [
            "Digite uma nota (ou número negativo para encerrar): 8\n",
            "Digite uma nota (ou número negativo para encerrar): 2\n",
            "Digite uma nota (ou número negativo para encerrar): 4\n",
            "Digite uma nota (ou número negativo para encerrar): -1\n",
            "Notas digitadas: [8.0, 2.0, 4.0]\n",
            "Média das notas: 4.67\n"
          ]
        }
      ]
    },
    {
      "cell_type": "code",
      "source": [
        "# Tuplas 05\n",
        "pares = []\n",
        "impares = []\n",
        "total = 0\n",
        "\n",
        "while True:\n",
        "    n = int(input(\"Digite um número positivo (ou negativo para encerrar): \"))\n",
        "    if n < 0:\n",
        "        break\n",
        "    total += 1\n",
        "    if n % 2 == 0:\n",
        "        pares.append(n)\n",
        "    else:\n",
        "        impares.append(n)\n",
        "\n",
        "# Cálculo das porcentagens\n",
        "if total > 0:\n",
        "    perc_pares = (len(pares) / total) * 100\n",
        "    perc_impares = (len(impares) / total) * 100\n",
        "\n",
        "    print(\"\\nNúmeros pares:\", pares)\n",
        "    print(\"Números ímpares:\", impares)\n",
        "    print(f\"\\nPorcentagem de pares: {perc_pares:.1f}%\")\n",
        "    print(f\"Porcentagem de ímpares: {perc_impares:.1f}%\")\n",
        "else:\n",
        "    print(\"Nenhum número foi digitado.\")"
      ],
      "metadata": {
        "colab": {
          "base_uri": "https://localhost:8080/"
        },
        "id": "lvRABMVk4erO",
        "outputId": "b77032da-7ac7-42f1-eaff-7967685e885c"
      },
      "execution_count": null,
      "outputs": [
        {
          "output_type": "stream",
          "name": "stdout",
          "text": [
            "Digite um número positivo (ou negativo para encerrar): 10\n",
            "Digite um número positivo (ou negativo para encerrar): 7\n",
            "Digite um número positivo (ou negativo para encerrar): 4\n",
            "Digite um número positivo (ou negativo para encerrar): -1\n",
            "\n",
            "Números pares: [10, 4]\n",
            "Números ímpares: [7]\n",
            "\n",
            "Porcentagem de pares: 66.7%\n",
            "Porcentagem de ímpares: 33.3%\n"
          ]
        }
      ]
    },
    {
      "cell_type": "code",
      "source": [
        "# Tuplas 06\n",
        "numeros = []\n",
        "\n",
        "while True:\n",
        "    n = int(input(\"Digite um número positivo (ou negativo para encerrar): \"))\n",
        "    if n < 0:\n",
        "        break\n",
        "    if n not in numeros:\n",
        "        numeros.append(n)\n",
        "\n",
        "print(\"\\nNúmeros digitados (sem repetição):\", numeros)"
      ],
      "metadata": {
        "colab": {
          "base_uri": "https://localhost:8080/"
        },
        "id": "DPeoJ2EZ5Wig",
        "outputId": "2efc6f1d-a341-4cc1-be7f-0715414c0fd8"
      },
      "execution_count": null,
      "outputs": [
        {
          "output_type": "stream",
          "name": "stdout",
          "text": [
            "Digite um número positivo (ou negativo para encerrar): 5\n",
            "Digite um número positivo (ou negativo para encerrar): 3\n",
            "Digite um número positivo (ou negativo para encerrar): 5\n",
            "Digite um número positivo (ou negativo para encerrar): 6\n",
            "Digite um número positivo (ou negativo para encerrar): -1\n",
            "\n",
            "Números digitados (sem repetição): [5, 3, 6]\n"
          ]
        }
      ]
    },
    {
      "cell_type": "code",
      "source": [
        "# Tuplas 07\n",
        "pessoas = []\n",
        "\n",
        "for i in range(5):\n",
        "    print(f\"\\nPessoa {i+1}:\")\n",
        "    altura_str = input(\"Digite a altura (em metros): \")\n",
        "    altura = float(altura_str.replace(',', '.'))\n",
        "    peso_str = input(\"Digite o peso (em kg): \")\n",
        "    peso = float(peso_str.replace(',', '.'))\n",
        "    pessoas.append((altura, peso))  # Armazena como tupla\n",
        "\n",
        "# Verifica se há duplicatas\n",
        "duplicado = False\n",
        "for i in range(len(pessoas)):\n",
        "    for j in range(i + 1, len(pessoas)):\n",
        "        if pessoas[i] == pessoas[j]:\n",
        "            duplicado = True\n",
        "            break\n",
        "    if duplicado:\n",
        "        break\n",
        "\n",
        "if duplicado:\n",
        "    print(\"\\n✅ Existem pelo menos duas pessoas com a mesma altura e o mesmo peso.\")\n",
        "else:\n",
        "    print(\"\\n❌ Nenhuma combinação de altura e peso é repetida.\")"
      ],
      "metadata": {
        "colab": {
          "base_uri": "https://localhost:8080/"
        },
        "id": "LjQ_D9sR5nEW",
        "outputId": "08530442-0823-4679-9771-a5c3f2d40e83"
      },
      "execution_count": null,
      "outputs": [
        {
          "output_type": "stream",
          "name": "stdout",
          "text": [
            "\n",
            "Pessoa 1:\n",
            "Digite a altura (em metros): 1,55\n",
            "Digite o peso (em kg): 56\n",
            "\n",
            "Pessoa 2:\n",
            "Digite a altura (em metros): 1,55\n",
            "Digite o peso (em kg): 56\n",
            "\n",
            "Pessoa 3:\n",
            "Digite a altura (em metros): 1,70\n",
            "Digite o peso (em kg): 98\n",
            "\n",
            "Pessoa 4:\n",
            "Digite a altura (em metros): 1,69\n",
            "Digite o peso (em kg): 65\n",
            "\n",
            "Pessoa 5:\n",
            "Digite a altura (em metros): 1,74\n",
            "Digite o peso (em kg): 78\n",
            "\n",
            "✅ Existem pelo menos duas pessoas com a mesma altura e o mesmo peso.\n"
          ]
        }
      ]
    },
    {
      "cell_type": "code",
      "source": [
        "# Tuplas 08\n",
        "pessoas = []\n",
        "\n",
        "while True:\n",
        "    nome = input(\"Digite o nome da pessoa (ou pressione Enter para encerrar): \")\n",
        "    if nome == \"\":\n",
        "        break\n",
        "    idade = int(input(\"Digite a idade: \"))\n",
        "    pessoas.append((nome, idade))\n",
        "\n",
        "if pessoas:\n",
        "    mais_velha = max(pessoas, key=lambda x: x[1])  # compara pela idade\n",
        "    print(f\"\\n👵 A pessoa mais velha é {mais_velha[0]} com {mais_velha[1]} anos.\")\n",
        "else:\n",
        "    print(\"\\nNenhuma pessoa foi cadastrada.\")"
      ],
      "metadata": {
        "id": "O9453GDx6Nqh",
        "outputId": "ced8f4e1-b661-4af8-f63a-c54b49b7ce19",
        "colab": {
          "base_uri": "https://localhost:8080/"
        }
      },
      "execution_count": null,
      "outputs": [
        {
          "output_type": "stream",
          "name": "stdout",
          "text": [
            "Digite o nome da pessoa (ou pressione Enter para encerrar): Ana \n",
            "Digite a idade: 39\n",
            "Digite o nome da pessoa (ou pressione Enter para encerrar): Luis \n",
            "Digite a idade: 22\n",
            "Digite o nome da pessoa (ou pressione Enter para encerrar): André \n",
            "Digite a idade: 25\n",
            "Digite o nome da pessoa (ou pressione Enter para encerrar): \n",
            "\n",
            "👵 A pessoa mais velha é Ana  com 39 anos.\n"
          ]
        }
      ]
    },
    {
      "cell_type": "code",
      "source": [],
      "metadata": {
        "id": "QZ6D-b8e6f1E"
      },
      "execution_count": null,
      "outputs": []
    }
  ]
}